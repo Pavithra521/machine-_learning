{
 "cells": [
  {
   "cell_type": "code",
   "execution_count": 6,
   "metadata": {},
   "outputs": [
    {
     "name": "stdout",
     "output_type": "stream",
     "text": [
      "11\n",
      "30\n"
     ]
    }
   ],
   "source": [
    "class calci:\n",
    "    def add(n1,n2):\n",
    "        return n1+n2\n",
    "    def mul(n1,n2):\n",
    "        return n1*n2\n",
    "cal=calci\n",
    "print(cal.add(5,6))\n",
    "print(cal.mul(5,6))"
   ]
  },
  {
   "cell_type": "markdown",
   "metadata": {},
   "source": [
    "## constructer\n",
    "- calling object without using object\n",
    "- types of constructers\n",
    "    - default cons\n",
    "    - parameterised cons"
   ]
  },
  {
   "cell_type": "code",
   "execution_count": 19,
   "metadata": {},
   "outputs": [
    {
     "name": "stdout",
     "output_type": "stream",
     "text": [
      "enter number4\n",
      "enter number2\n"
     ]
    },
    {
     "data": {
      "text/plain": [
       "6"
      ]
     },
     "execution_count": 19,
     "metadata": {},
     "output_type": "execute_result"
    }
   ],
   "source": [
    "class calci1:\n",
    "    def __init__(d,n1,n2):\n",
    "        d.a=n1\n",
    "        d.b=n2\n",
    "    def __add__(d):\n",
    "        return d.a+d.b\n",
    "    def __sub__(d):\n",
    "        return d.a-d.b\n",
    "    def __mul__(d):\n",
    "        return d.a*d.b\n",
    "    def __mod__(d):\n",
    "        return d.a%d.b\n",
    "    def __quo__(d):\n",
    "        return d.a/d.b\n",
    "    def __floo__(d):\n",
    "        return d.a//d.b\n",
    "    def __power__(d):\n",
    "        return d.a**d.b\n",
    "\n",
    "n1=int(input(\"enter number\"))\n",
    "n2=int(input(\"enter number\"))\n",
    "ca=calci1(n1,n2)\n",
    "ca.__add__()\n"
   ]
  },
  {
   "cell_type": "code",
   "execution_count": 20,
   "metadata": {},
   "outputs": [
    {
     "data": {
      "text/plain": [
       "16"
      ]
     },
     "execution_count": 20,
     "metadata": {},
     "output_type": "execute_result"
    }
   ],
   "source": [
    "ca.__power__()"
   ]
  },
  {
   "cell_type": "code",
   "execution_count": null,
   "metadata": {},
   "outputs": [],
   "source": []
  }
 ],
 "metadata": {
  "kernelspec": {
   "display_name": "Python 3",
   "language": "python",
   "name": "python3"
  },
  "language_info": {
   "codemirror_mode": {
    "name": "ipython",
    "version": 3
   },
   "file_extension": ".py",
   "mimetype": "text/x-python",
   "name": "python",
   "nbconvert_exporter": "python",
   "pygments_lexer": "ipython3",
   "version": "3.7.3"
  }
 },
 "nbformat": 4,
 "nbformat_minor": 2
}
